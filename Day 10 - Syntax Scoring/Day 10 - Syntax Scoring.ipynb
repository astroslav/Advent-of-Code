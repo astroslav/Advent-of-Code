{
 "cells": [
  {
   "cell_type": "markdown",
   "id": "dbafb608",
   "metadata": {},
   "source": [
    "https://adventofcode.com/2021/day/10"
   ]
  },
  {
   "cell_type": "code",
   "execution_count": 16,
   "id": "a624fda7",
   "metadata": {},
   "outputs": [
    {
     "name": "stdout",
     "output_type": "stream",
     "text": [
      "Syntax error score: 392367\n",
      "Middle score is: 2192104158\n"
     ]
    }
   ],
   "source": [
    "with open(\"input.txt\") as file:\n",
    "    input_lines = file.readlines()\n",
    "\n",
    "opening = list('([{<')\n",
    "closing = list(')]}>')\n",
    "\n",
    "illegal_character_count = {\")\": 0, \"]\": 0, \"}\": 0, \">\": 0}\n",
    "point_value = [1, 2, 3, 4]\n",
    "\n",
    "stack = []\n",
    "total_points = []\n",
    "\n",
    "for line in input_lines:\n",
    "    stack.clear()\n",
    "    flag = True\n",
    "    for char in line:\n",
    "        if char in opening:\n",
    "            stack.append(char)\n",
    "        elif char in closing:\n",
    "            if stack.pop() != opening[closing.index(char)]:\n",
    "                illegal_character_count[char] += 1\n",
    "                flag = False\n",
    "                break\n",
    "    \n",
    "    if flag:\n",
    "        total = 0\n",
    "        while len(stack) != 0:\n",
    "            t = stack.pop()\n",
    "            c = closing[opening.index(t)]\n",
    "            total *= 5\n",
    "            total += point_value[closing.index(c)]\n",
    "        total_points.append(total)\n",
    "\n",
    "syntax_error = [3, 57, 1197, 25137]\n",
    "print(f'Syntax error score: {sum([a * b  for a,b in zip(syntax_error, list(illegal_character_count.values()))])}')\n",
    "\n",
    "total_points.sort()\n",
    "mid = int((len(total_points) - 1) / 2)\n",
    "print(f'Middle score is: {total_points[mid]}')"
   ]
  }
 ],
 "metadata": {
  "kernelspec": {
   "display_name": "Python 3 (ipykernel)",
   "language": "python",
   "name": "python3"
  },
  "language_info": {
   "codemirror_mode": {
    "name": "ipython",
    "version": 3
   },
   "file_extension": ".py",
   "mimetype": "text/x-python",
   "name": "python",
   "nbconvert_exporter": "python",
   "pygments_lexer": "ipython3",
   "version": "3.8.11"
  }
 },
 "nbformat": 4,
 "nbformat_minor": 5
}
