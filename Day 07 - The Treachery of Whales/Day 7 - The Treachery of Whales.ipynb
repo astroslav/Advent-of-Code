{
 "cells": [
  {
   "cell_type": "markdown",
   "id": "3d092e61",
   "metadata": {},
   "source": [
    "# Day 7: The Treachery of Whales\n",
    "\n",
    "A giant whale has decided your submarine is its next meal, and it's much faster than you are. There's nowhere to run!\n",
    "\n",
    "Suddenly, a swarm of crabs (each in its own tiny submarine - it's too deep for them otherwise) zooms in to rescue you! They seem to be preparing to blast a hole in the ocean floor; sensors indicate a massive underground cave system just beyond where they're aiming!\n",
    "\n",
    "The crab submarines all need to be aligned before they'll have enough power to blast a large enough hole for your submarine to get through. However, it doesn't look like they'll be aligned before the whale catches you! Maybe you can help?\n",
    "\n",
    "There's one major catch - crab submarines can only move horizontally.\n",
    "\n",
    "You quickly make a list of the horizontal position of each crab (your puzzle input). Crab submarines have limited fuel, so you need to find a way to make all of their horizontal positions match while requiring them to spend as little fuel as possible.\n",
    "\n",
    "For example, consider the following horizontal positions:\n",
    "\n",
    "```\n",
    "16,1,2,0,4,2,7,1,2,14\n",
    "```\n",
    "\n",
    "This means there's a crab with horizontal position 16, a crab with horizontal position 1, and so on.\n",
    "\n",
    "Each change of 1 step in horizontal position of a single crab costs 1 fuel. You could choose any horizontal position to align them all on, but the one that costs the least fuel is horizontal position 2:\n",
    "\n",
    "```\n",
    "Move from 16 to 2: 14 fuel\n",
    "Move from 1 to 2: 1 fuel\n",
    "Move from 2 to 2: 0 fuel\n",
    "Move from 0 to 2: 2 fuel\n",
    "Move from 4 to 2: 2 fuel\n",
    "Move from 2 to 2: 0 fuel\n",
    "Move from 7 to 2: 5 fuel\n",
    "Move from 1 to 2: 1 fuel\n",
    "Move from 2 to 2: 0 fuel\n",
    "Move from 14 to 2: 12 fuel\n",
    "```\n",
    "\n",
    "This costs a total of 37 fuel. This is the cheapest possible outcome; more expensive outcomes include aligning at position 1 (41 fuel), position 3 (39 fuel), or position 10 (71 fuel).\n",
    "\n",
    "Determine the horizontal position that the crabs can align to using the least fuel possible. How much fuel must they spend to align to that position?"
   ]
  },
  {
   "cell_type": "code",
   "execution_count": 1,
   "id": "66bb82fc",
   "metadata": {},
   "outputs": [],
   "source": [
    "import numpy as np\n",
    "import pandas as pd\n",
    "from scipy.optimize import minimize"
   ]
  },
  {
   "cell_type": "code",
   "execution_count": 2,
   "id": "18b5b059",
   "metadata": {},
   "outputs": [
    {
     "name": "stdout",
     "output_type": "stream",
     "text": [
      "The first 5 values of the array are: [1.101e+03 1.000e+00 2.900e+01 6.700e+01 1.102e+03]\n",
      "\n",
      " final_simplex: (array([[345.99998184],\n",
      "       [346.00007674]]), array([359648.00007262, 359648.00015347]))\n",
      "           fun: 359648.0000726242\n",
      "       message: 'Optimization terminated successfully.'\n",
      "          nfev: 46\n",
      "           nit: 23\n",
      "        status: 0\n",
      "       success: True\n",
      "             x: array([345.99998184])\n",
      "\n",
      "The minimized position at which we should align the crabs is x = 346.\n",
      "The amount of fuel used at that positions is 359648.0.\n"
     ]
    }
   ],
   "source": [
    "pos = np.loadtxt('input.txt', delimiter=',')\n",
    "\n",
    "print('The first 5 values of the array are: {}'.format(pos[:5]))\n",
    "\n",
    "def tot_fuel(arr, val):\n",
    "    return np.sum(abs(arr - val))\n",
    "\n",
    "res = minimize(tot_fuel, x0=np.mean(pos), args=pos, method='Nelder-Mead')\n",
    "print('')\n",
    "print(res)\n",
    "print('')\n",
    "x_pos = int(np.round(res.x,0))\n",
    "print('The minimized position at which we should align the crabs is x = {}.'.format(x_pos))\n",
    "print('The amount of fuel used at that positions is {}.'.format(tot_fuel(pos,x_pos)))"
   ]
  },
  {
   "cell_type": "markdown",
   "id": "b4ad270c",
   "metadata": {},
   "source": [
    "# Part Two\n",
    "\n",
    "The crabs don't seem interested in your proposed solution. Perhaps you misunderstand crab engineering?\n",
    "\n",
    "As it turns out, crab submarine engines don't burn fuel at a constant rate. Instead, each change of 1 step in horizontal position costs 1 more unit of fuel than the last: the first step costs 1, the second step costs 2, the third step costs 3, and so on.\n",
    "\n",
    "As each crab moves, moving further becomes more expensive. This changes the best horizontal position to align them all on; in the example above, this becomes 5:\n",
    "\n",
    "```\n",
    "Move from 16 to 5: 66 fuel\n",
    "Move from 1 to 5: 10 fuel\n",
    "Move from 2 to 5: 6 fuel\n",
    "Move from 0 to 5: 15 fuel\n",
    "Move from 4 to 5: 1 fuel\n",
    "Move from 2 to 5: 6 fuel\n",
    "Move from 7 to 5: 3 fuel\n",
    "Move from 1 to 5: 10 fuel\n",
    "Move from 2 to 5: 6 fuel\n",
    "Move from 14 to 5: 45 fuel\n",
    "```\n",
    "\n",
    "This costs a total of 168 fuel. This is the new cheapest possible outcome; the old alignment position (2) now costs 206 fuel instead.\n",
    "\n",
    "Determine the horizontal position that the crabs can align to using the least fuel possible so they can make you an escape route! How much fuel must they spend to align to that position?"
   ]
  },
  {
   "cell_type": "code",
   "execution_count": 9,
   "id": "f486268d",
   "metadata": {},
   "outputs": [
    {
     "name": "stdout",
     "output_type": "stream",
     "text": [
      "The first 5 values of the array are: [1.101e+03 1.000e+00 2.900e+01 6.700e+01 1.102e+03]\n",
      "The mean is 497.51\n",
      "\n",
      " final_simplex: (array([[497.358172  ],\n",
      "       [497.35826689]]), array([1.00727326e+08, 1.00727326e+08]))\n",
      "           fun: 100727326.0\n",
      "       message: 'Optimization terminated successfully.'\n",
      "          nfev: 46\n",
      "           nit: 20\n",
      "        status: 0\n",
      "       success: True\n",
      "             x: array([497.358172])\n",
      "\n",
      "The minimized position at which we should align the crabs is x = 497.\n",
      "The amount of fuel used at that positions is 100727924.0.\n"
     ]
    }
   ],
   "source": [
    "pos = np.loadtxt('input.txt', delimiter=',')\n",
    "print('The first 5 values of the array are: {}'.format(pos[:5]))\n",
    "print('The mean is {}'.format(np.mean(pos)))\n",
    "\n",
    "def tot_fuel2(arr, val):\n",
    "    diff = abs(arr - val)\n",
    "    fuel_used = 0\n",
    "    for num in diff:\n",
    "        fuel_used += sum(np.arange(0,int(num+1)))\n",
    "    return fuel_used\n",
    "\n",
    "def tot_fuel3(arr, val):\n",
    "    diff = abs(arr - val)\n",
    "    return sum(diff * (diff+1) // 2)\n",
    "\n",
    "res = minimize(tot_fuel3, x0=np.mean(pos), args=pos, method='Nelder-Mead')\n",
    "print('')\n",
    "print(res)\n",
    "print('')\n",
    "x_pos = int(np.round(res.x,0))\n",
    "print('The minimized position at which we should align the crabs is x = {}.'.format(x_pos))\n",
    "print('The amount of fuel used at that positions is {}.'.format(tot_fuel3(pos,497)))"
   ]
  }
 ],
 "metadata": {
  "kernelspec": {
   "display_name": "Python 3 (ipykernel)",
   "language": "python",
   "name": "python3"
  },
  "language_info": {
   "codemirror_mode": {
    "name": "ipython",
    "version": 3
   },
   "file_extension": ".py",
   "mimetype": "text/x-python",
   "name": "python",
   "nbconvert_exporter": "python",
   "pygments_lexer": "ipython3",
   "version": "3.8.11"
  }
 },
 "nbformat": 4,
 "nbformat_minor": 5
}
