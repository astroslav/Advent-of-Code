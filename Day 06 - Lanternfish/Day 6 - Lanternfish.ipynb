{
 "cells": [
  {
   "cell_type": "markdown",
   "id": "17c94729",
   "metadata": {},
   "source": [
    "# Part One\n",
    "\n",
    "The sea floor is getting steeper. Maybe the sleigh keys got carried this way?\n",
    "\n",
    "A massive school of glowing lanternfish swims past. They must spawn quickly to reach such large numbers - maybe exponentially quickly? You should model their growth rate to be sure.\n",
    "\n",
    "Although you know nothing about this specific species of lanternfish, you make some guesses about their attributes. Surely, each lanternfish creates a new lanternfish once every 7 days.\n",
    "\n",
    "However, this process isn't necessarily synchronized between every lanternfish - one lanternfish might have 2 days left until it creates another lanternfish, while another might have 4. So, you can model each fish as a single number that represents the number of days until it creates a new lanternfish.\n",
    "\n",
    "Furthermore, you reason, a new lanternfish would surely need slightly longer before it's capable of producing more lanternfish: two more days for its first cycle.\n",
    "\n",
    "So, suppose you have a lanternfish with an internal timer value of 3:\n",
    "\n",
    "After one day, its internal timer would become 2.\n",
    "After another day, its internal timer would become 1.\n",
    "After another day, its internal timer would become 0.\n",
    "After another day, its internal timer would reset to 6, and it would create a new lanternfish with an internal timer of 8.\n",
    "After another day, the first lanternfish would have an internal timer of 5, and the second lanternfish would have an internal timer of 7.\n",
    "A lanternfish that creates a new fish resets its timer to 6, not 7 (because 0 is included as a valid timer value). The new lanternfish starts with an internal timer of 8 and does not start counting down until the next day.\n",
    "\n",
    "Realizing what you're trying to do, the submarine automatically produces a list of the ages of several hundred nearby lanternfish (your puzzle input). For example, suppose you were given the following list:\n",
    "\n",
    "```\n",
    "3,4,3,1,2\n",
    "```\n",
    "\n",
    "This list means that the first fish has an internal timer of 3, the second fish has an internal timer of 4, and so on until the fifth fish, which has an internal timer of 2. Simulating these fish over several days would proceed as follows:\n",
    "\n",
    "```\n",
    "Initial state: 3,4,3,1,2\n",
    "After  1 day:  2,3,2,0,1\n",
    "After  2 days: 1,2,1,6,0,8\n",
    "After  3 days: 0,1,0,5,6,7,8\n",
    "After  4 days: 6,0,6,4,5,6,7,8,8\n",
    "After  5 days: 5,6,5,3,4,5,6,7,7,8\n",
    "After  6 days: 4,5,4,2,3,4,5,6,6,7\n",
    "After  7 days: 3,4,3,1,2,3,4,5,5,6\n",
    "After  8 days: 2,3,2,0,1,2,3,4,4,5\n",
    "After  9 days: 1,2,1,6,0,1,2,3,3,4,8\n",
    "After 10 days: 0,1,0,5,6,0,1,2,2,3,7,8\n",
    "After 11 days: 6,0,6,4,5,6,0,1,1,2,6,7,8,8,8\n",
    "After 12 days: 5,6,5,3,4,5,6,0,0,1,5,6,7,7,7,8,8\n",
    "After 13 days: 4,5,4,2,3,4,5,6,6,0,4,5,6,6,6,7,7,8,8\n",
    "After 14 days: 3,4,3,1,2,3,4,5,5,6,3,4,5,5,5,6,6,7,7,8\n",
    "After 15 days: 2,3,2,0,1,2,3,4,4,5,2,3,4,4,4,5,5,6,6,7\n",
    "After 16 days: 1,2,1,6,0,1,2,3,3,4,1,2,3,3,3,4,4,5,5,6,8\n",
    "After 17 days: 0,1,0,5,6,0,1,2,2,3,0,1,2,2,2,3,3,4,4,5,7,8\n",
    "After 18 days: 6,0,6,4,5,6,0,1,1,2,6,0,1,1,1,2,2,3,3,4,6,7,8,8,8,8\n",
    "```\n",
    "\n",
    "Each day, a 0 becomes a 6 and adds a new 8 to the end of the list, while each other number decreases by 1 if it was present at the start of the day.\n",
    "\n",
    "In this example, after 18 days, there are a total of 26 fish. After 80 days, there would be a total of 5934.\n",
    "\n",
    "Find a way to simulate lanternfish. How many lanternfish would there be after 80 days?"
   ]
  },
  {
   "cell_type": "code",
   "execution_count": 1,
   "id": "5b39d17b",
   "metadata": {},
   "outputs": [],
   "source": [
    "import numpy as np\n",
    "import pandas as pd"
   ]
  },
  {
   "cell_type": "code",
   "execution_count": 70,
   "id": "9ffb5697",
   "metadata": {},
   "outputs": [
    {
     "name": "stdout",
     "output_type": "stream",
     "text": [
      "Initial state:  [3. 4. 3. 1. 2.]\n",
      "There are 5934 lanternfish after 80 days.\n"
     ]
    }
   ],
   "source": [
    "data = np.loadtxt('testinput.txt', delimiter=',')\n",
    "\n",
    "days = 80\n",
    "print('Initial state: ', data)\n",
    "\n",
    "for day in range(days):\n",
    "    NewFish = len(np.where(data == 0)[0])\n",
    "    data = np.where(data == 0, 7, data)\n",
    "    data = np.append(data, NewFish*[9])\n",
    "    data = data - 1\n",
    "#     print('After {} day(s): {}'.format(day+1,data))\n",
    "\n",
    "print('There are {} lanternfish after {} days.'.format(len(data),day+1))"
   ]
  },
  {
   "cell_type": "markdown",
   "id": "4dcbce81",
   "metadata": {},
   "source": [
    "# Part Two\n",
    "\n",
    "Suppose the lanternfish live forever and have unlimited food and space. Would they take over the entire ocean?\n",
    "\n",
    "After 256 days in the example above, there would be a total of 26984457539 lanternfish!"
   ]
  },
  {
   "cell_type": "code",
   "execution_count": 144,
   "id": "b4681042",
   "metadata": {},
   "outputs": [
    {
     "name": "stdout",
     "output_type": "stream",
     "text": [
      "There are 1632146183902 lanternfish after 256 days.\n"
     ]
    }
   ],
   "source": [
    "data = np.loadtxt('input.txt', delimiter=',')\n",
    "days = 256\n",
    "\n",
    "FishPositions = pd.DataFrame(data=[[0,0,0,0,0,0,0,0,0,0]])\n",
    "\n",
    "for val in data:\n",
    "    FishPositions[int(val)] += 1\n",
    "\n",
    "for day in range(days):\n",
    "    FishPositions[9] = FishPositions[0] # Update the last position with the first so it's not overwritten\n",
    "    FishPositions[7] += FishPositions[0] # Add all the fish at 0 timer to 7 so they're moved to 6 next step\n",
    "    \n",
    "    for i in np.arange(0,9):\n",
    "        FishPositions[i] = FishPositions[i+1] # Shift everything back once\n",
    "\n",
    "print('There are {} lanternfish after {} days.'.format(FishPositions.loc[:,:8].sum().sum(),day+1)) "
   ]
  },
  {
   "cell_type": "code",
   "execution_count": null,
   "id": "0d22d31e",
   "metadata": {},
   "outputs": [],
   "source": []
  },
  {
   "cell_type": "code",
   "execution_count": 145,
   "id": "a4d1abb7",
   "metadata": {},
   "outputs": [
    {
     "name": "stdout",
     "output_type": "stream",
     "text": [
      "Part 1: 360268\n",
      "Part 2: 1632146183902\n"
     ]
    }
   ],
   "source": [
    "# from https://www.reddit.com/r/adventofcode/comments/r9z49j/2021_day_6_solutions/\n",
    "\n",
    "def solve(data, days):\n",
    "    tracker = [data.count(i) for i in range(9)]\n",
    "    for day in range(days):\n",
    "        tracker[(day + 7) % 9] += tracker[day % 9]\n",
    "    return sum(tracker)\n",
    "\n",
    "\n",
    "data = [int(x) for x in open(\"input.txt\").read().strip().split(\",\")]\n",
    "print(f\"Part 1: {solve(data, 80)}\")\n",
    "print(f\"Part 2: {solve(data, 256)}\")"
   ]
  },
  {
   "cell_type": "code",
   "execution_count": null,
   "id": "2d0b1ff2",
   "metadata": {},
   "outputs": [],
   "source": []
  }
 ],
 "metadata": {
  "kernelspec": {
   "display_name": "Python 3 (ipykernel)",
   "language": "python",
   "name": "python3"
  },
  "language_info": {
   "codemirror_mode": {
    "name": "ipython",
    "version": 3
   },
   "file_extension": ".py",
   "mimetype": "text/x-python",
   "name": "python",
   "nbconvert_exporter": "python",
   "pygments_lexer": "ipython3",
   "version": "3.8.11"
  }
 },
 "nbformat": 4,
 "nbformat_minor": 5
}
