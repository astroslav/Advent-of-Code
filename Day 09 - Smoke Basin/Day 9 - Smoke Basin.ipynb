{
 "cells": [
  {
   "cell_type": "markdown",
   "id": "456eb21f",
   "metadata": {},
   "source": [
    "# Part One\n",
    "\n",
    "These caves seem to be lava tubes. Parts are even still volcanically active; small hydrothermal vents release smoke into the caves that slowly settles like rain.\n",
    "\n",
    "If you can model how the smoke flows through the caves, you might be able to avoid it and be that much safer. The submarine generates a heightmap of the floor of the nearby caves for you (your puzzle input).\n",
    "\n",
    "Smoke flows to the lowest point of the area it's in. For example, consider the following heightmap:\n",
    "\n",
    "```\n",
    "2199943210\n",
    "3987894921\n",
    "9856789892\n",
    "8767896789\n",
    "9899965678\n",
    "```\n",
    "\n",
    "Each number corresponds to the height of a particular location, where 9 is the highest and 0 is the lowest a location can be.\n",
    "\n",
    "Your first goal is to find the low points - the locations that are lower than any of its adjacent locations. Most locations have four adjacent locations (up, down, left, and right); locations on the edge or corner of the map have three or two adjacent locations, respectively. (Diagonal locations do not count as adjacent.)\n",
    "\n",
    "In the above example, there are four low points, all highlighted: two are in the first row (a 1 and a 0), one is in the third row (a 5), and one is in the bottom row (also a 5). All other locations on the heightmap have some lower adjacent location, and so are not low points.\n",
    "\n",
    "The risk level of a low point is 1 plus its height. In the above example, the risk levels of the low points are 2, 1, 6, and 6. The sum of the risk levels of all low points in the heightmap is therefore 15.\n",
    "\n",
    "Find all of the low points on your heightmap. What is the sum of the risk levels of all low points on your heightmap?"
   ]
  },
  {
   "cell_type": "code",
   "execution_count": 1,
   "id": "07f0551b",
   "metadata": {},
   "outputs": [],
   "source": [
    "import numpy as np\n",
    "import pandas as pd"
   ]
  },
  {
   "cell_type": "code",
   "execution_count": 44,
   "id": "aae11e82",
   "metadata": {},
   "outputs": [],
   "source": [
    "with open('input.txt', 'r') as file:\n",
    "    grid = [[int(height) for height in row.rstrip()] for row in file]"
   ]
  },
  {
   "cell_type": "code",
   "execution_count": 45,
   "id": "e876a66e",
   "metadata": {},
   "outputs": [],
   "source": [
    "grid_height = len(grid)\n",
    "grid_width = len(grid[0])\n",
    "low_points = []"
   ]
  },
  {
   "cell_type": "code",
   "execution_count": 46,
   "id": "264d85f0",
   "metadata": {},
   "outputs": [],
   "source": [
    "def get_adj_points(x, y):\n",
    "    adj_points = []\n",
    "    if x > 0:\n",
    "        adj_points.append((x - 1, y))\n",
    "    if x < grid_width - 1:\n",
    "        adj_points.append((x + 1, y))\n",
    "    if y > 0:\n",
    "        adj_points.append((x, y - 1))\n",
    "    if y < grid_height - 1:\n",
    "        adj_points.append((x, y + 1))\n",
    "    return adj_points"
   ]
  },
  {
   "cell_type": "code",
   "execution_count": 47,
   "id": "fa95a2da",
   "metadata": {},
   "outputs": [],
   "source": [
    "def is_low_point(x, y):\n",
    "    height = grid[y][x]\n",
    "    adj_points = get_adj_points(x, y)\n",
    "    for point in adj_points:\n",
    "        x, y = point\n",
    "        if height >= grid[y][x]:\n",
    "            return False\n",
    "    return True"
   ]
  },
  {
   "cell_type": "code",
   "execution_count": 48,
   "id": "c2e06382",
   "metadata": {},
   "outputs": [
    {
     "name": "stdout",
     "output_type": "stream",
     "text": [
      "Total risk level: 502\n"
     ]
    }
   ],
   "source": [
    "total_risk_level = 0\n",
    "for y, row in enumerate(grid):\n",
    "    for x, height in enumerate(row):\n",
    "        if is_low_point(x, y):\n",
    "            low_points.append((x,y))\n",
    "            risk_level = height + 1\n",
    "            total_risk_level += risk_level\n",
    "\n",
    "print(\"Total risk level:\", total_risk_level)"
   ]
  },
  {
   "cell_type": "markdown",
   "id": "d7b9219c",
   "metadata": {},
   "source": [
    "# Part Two\n",
    "\n",
    "Next, you need to find the largest basins so you know what areas are most important to avoid.\n",
    "\n",
    "A basin is all locations that eventually flow downward to a single low point. Therefore, every low point has a basin, although some basins are very small. Locations of height 9 do not count as being in any basin, and all other locations will always be part of exactly one basin.\n",
    "\n",
    "The size of a basin is the number of locations within the basin, including the low point. The example above has four basins.\n",
    "\n",
    "The top-left basin, size 3:\n",
    "```\n",
    "2199943210\n",
    "3987894921\n",
    "9856789892\n",
    "8767896789\n",
    "9899965678\n",
    "```\n",
    "The top-right basin, size 9:\n",
    "```\n",
    "2199943210\n",
    "3987894921\n",
    "9856789892\n",
    "8767896789\n",
    "9899965678\n",
    "```\n",
    "The middle basin, size 14:\n",
    "```\n",
    "2199943210\n",
    "3987894921\n",
    "9856789892\n",
    "8767896789\n",
    "9899965678\n",
    "```\n",
    "The bottom-right basin, size 9:\n",
    "```\n",
    "2199943210\n",
    "3987894921\n",
    "9856789892\n",
    "8767896789\n",
    "9899965678\n",
    "```\n",
    "Find the three largest basins and multiply their sizes together. In the above example, this is 9 * 14 * 9 = 1134.\n",
    "\n",
    "What do you get if you multiply together the sizes of the three largest basins?"
   ]
  },
  {
   "cell_type": "code",
   "execution_count": 55,
   "id": "1d5f5e75",
   "metadata": {},
   "outputs": [],
   "source": [
    "def get_adj_basin_points(x, y):\n",
    "    adj_basin_points = []\n",
    "    adj_points = get_adj_points(x, y)\n",
    "    for adj_point in adj_points:\n",
    "        adj_x, adj_y = adj_point\n",
    "        height = grid[adj_y][adj_x]\n",
    "        if height < 9:\n",
    "            adj_basin_points.append(adj_point)\n",
    "    return adj_basin_points"
   ]
  },
  {
   "cell_type": "code",
   "execution_count": 50,
   "id": "0f948f22",
   "metadata": {},
   "outputs": [],
   "source": [
    "def get_basin_points(point, basin_points=[]):\n",
    "    basin_points = basin_points.copy()\n",
    "    basin_points.append(point)\n",
    "    x, y = point\n",
    "    adj_basin_points = get_adj_basin_points(x, y)\n",
    "    for adj_bp in adj_basin_points:\n",
    "        if adj_bp not in basin_points:\n",
    "            basin_points = get_basin_points(adj_bp, basin_points)\n",
    "    return basin_points"
   ]
  },
  {
   "cell_type": "code",
   "execution_count": 57,
   "id": "00ad5eb6",
   "metadata": {},
   "outputs": [
    {
     "name": "stdout",
     "output_type": "stream",
     "text": [
      "Product of the three largest bazin sizes: 1330560\n"
     ]
    }
   ],
   "source": [
    "basin_sizes = []\n",
    "for lp in low_points:\n",
    "    basin_points = get_basin_points(lp)\n",
    "    size = len(basin_points)\n",
    "    basin_sizes.append(size)\n",
    "\n",
    "basin_sizes.sort(reverse=True)\n",
    "three_largest_basin_sizes = basin_sizes[:3]\n",
    "product = 1\n",
    "for size in three_largest_basin_sizes:\n",
    "    product *= size\n",
    "print(\"Product of the three largest bazin sizes:\", product)"
   ]
  }
 ],
 "metadata": {
  "kernelspec": {
   "display_name": "Python 3 (ipykernel)",
   "language": "python",
   "name": "python3"
  },
  "language_info": {
   "codemirror_mode": {
    "name": "ipython",
    "version": 3
   },
   "file_extension": ".py",
   "mimetype": "text/x-python",
   "name": "python",
   "nbconvert_exporter": "python",
   "pygments_lexer": "ipython3",
   "version": "3.8.11"
  }
 },
 "nbformat": 4,
 "nbformat_minor": 5
}
