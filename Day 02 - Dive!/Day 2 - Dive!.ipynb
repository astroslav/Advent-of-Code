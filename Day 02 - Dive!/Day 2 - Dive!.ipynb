{
 "cells": [
  {
   "cell_type": "markdown",
   "id": "a993cc8c",
   "metadata": {},
   "source": [
    "# Part One\n",
    "\n",
    "Now, you need to figure out how to pilot this thing.\n",
    "\n",
    "It seems like the submarine can take a series of commands like forward 1, down 2, or up 3:\n",
    "\n",
    "- forward X increases the horizontal position by X units.\n",
    "- down X increases the depth by X units.\n",
    "- up X decreases the depth by X units.\n",
    "\n",
    "Note that since you're on a submarine, down and up affect your depth, and so they have the opposite result of what you might expect.\n",
    "\n",
    "The submarine seems to already have a planned course (your puzzle input). You should probably figure out where it's going. For example:\n",
    "\n",
    "```\n",
    "forward 5\n",
    "down 5\n",
    "forward 8\n",
    "up 3\n",
    "down 8\n",
    "forward 2\n",
    "```\n",
    "\n",
    "Your horizontal position and depth both start at 0. The steps above would then modify them as follows:\n",
    "\n",
    "- forward 5 adds 5 to your horizontal position, a total of 5.\n",
    "- down 5 adds 5 to your depth, resulting in a value of 5.\n",
    "- forward 8 adds 8 to your horizontal position, a total of 13.\n",
    "- up 3 decreases your depth by 3, resulting in a value of 2.\n",
    "- down 8 adds 8 to your depth, resulting in a value of 10.\n",
    "- forward 2 adds 2 to your horizontal position, a total of 15.\n",
    "\n",
    "After following these instructions, you would have a horizontal position of 15 and a depth of 10. (Multiplying these together produces 150.)\n",
    "\n",
    "Calculate the horizontal position and depth you would have after following the planned course. **What do you get if you multiply your final horizontal position by your final depth?**"
   ]
  },
  {
   "cell_type": "code",
   "execution_count": 9,
   "id": "9d2ec831",
   "metadata": {},
   "outputs": [],
   "source": [
    "import numpy as np\n",
    "import pandas as pd"
   ]
  },
  {
   "cell_type": "code",
   "execution_count": 10,
   "id": "d89ae099",
   "metadata": {},
   "outputs": [
    {
     "data": {
      "text/html": [
       "<div>\n",
       "<style scoped>\n",
       "    .dataframe tbody tr th:only-of-type {\n",
       "        vertical-align: middle;\n",
       "    }\n",
       "\n",
       "    .dataframe tbody tr th {\n",
       "        vertical-align: top;\n",
       "    }\n",
       "\n",
       "    .dataframe thead th {\n",
       "        text-align: right;\n",
       "    }\n",
       "</style>\n",
       "<table border=\"1\" class=\"dataframe\">\n",
       "  <thead>\n",
       "    <tr style=\"text-align: right;\">\n",
       "      <th></th>\n",
       "      <th>direction</th>\n",
       "      <th>units</th>\n",
       "    </tr>\n",
       "  </thead>\n",
       "  <tbody>\n",
       "    <tr>\n",
       "      <th>0</th>\n",
       "      <td>forward</td>\n",
       "      <td>5</td>\n",
       "    </tr>\n",
       "    <tr>\n",
       "      <th>1</th>\n",
       "      <td>forward</td>\n",
       "      <td>2</td>\n",
       "    </tr>\n",
       "    <tr>\n",
       "      <th>2</th>\n",
       "      <td>forward</td>\n",
       "      <td>9</td>\n",
       "    </tr>\n",
       "    <tr>\n",
       "      <th>3</th>\n",
       "      <td>down</td>\n",
       "      <td>2</td>\n",
       "    </tr>\n",
       "    <tr>\n",
       "      <th>4</th>\n",
       "      <td>forward</td>\n",
       "      <td>9</td>\n",
       "    </tr>\n",
       "    <tr>\n",
       "      <th>...</th>\n",
       "      <td>...</td>\n",
       "      <td>...</td>\n",
       "    </tr>\n",
       "    <tr>\n",
       "      <th>995</th>\n",
       "      <td>forward</td>\n",
       "      <td>8</td>\n",
       "    </tr>\n",
       "    <tr>\n",
       "      <th>996</th>\n",
       "      <td>forward</td>\n",
       "      <td>8</td>\n",
       "    </tr>\n",
       "    <tr>\n",
       "      <th>997</th>\n",
       "      <td>forward</td>\n",
       "      <td>5</td>\n",
       "    </tr>\n",
       "    <tr>\n",
       "      <th>998</th>\n",
       "      <td>down</td>\n",
       "      <td>9</td>\n",
       "    </tr>\n",
       "    <tr>\n",
       "      <th>999</th>\n",
       "      <td>forward</td>\n",
       "      <td>6</td>\n",
       "    </tr>\n",
       "  </tbody>\n",
       "</table>\n",
       "<p>1000 rows × 2 columns</p>\n",
       "</div>"
      ],
      "text/plain": [
       "    direction  units\n",
       "0     forward      5\n",
       "1     forward      2\n",
       "2     forward      9\n",
       "3        down      2\n",
       "4     forward      9\n",
       "..        ...    ...\n",
       "995   forward      8\n",
       "996   forward      8\n",
       "997   forward      5\n",
       "998      down      9\n",
       "999   forward      6\n",
       "\n",
       "[1000 rows x 2 columns]"
      ]
     },
     "execution_count": 10,
     "metadata": {},
     "output_type": "execute_result"
    }
   ],
   "source": [
    "data = pd.read_csv('input.txt', sep=\" \", header=None, names=[\"direction\", \"units\"])\n",
    "data"
   ]
  },
  {
   "cell_type": "code",
   "execution_count": 11,
   "id": "9ef26650",
   "metadata": {},
   "outputs": [
    {
     "data": {
      "text/plain": [
       "array(['forward', 'down', 'up'], dtype=object)"
      ]
     },
     "execution_count": 11,
     "metadata": {},
     "output_type": "execute_result"
    }
   ],
   "source": [
    "data.direction.unique()"
   ]
  },
  {
   "cell_type": "code",
   "execution_count": 16,
   "id": "f0df0665",
   "metadata": {},
   "outputs": [],
   "source": [
    "location = {\n",
    "    'forward': 0,\n",
    "    'down': 0,\n",
    "    'up': 0\n",
    "}"
   ]
  },
  {
   "cell_type": "code",
   "execution_count": 17,
   "id": "ee042718",
   "metadata": {},
   "outputs": [],
   "source": [
    "for i in range(len(data)):\n",
    "    if data.direction[i] == 'forward':\n",
    "        location['forward'] += data.units[i]\n",
    "    elif data.direction[i] == 'down':\n",
    "        location['down'] += data.units[i]\n",
    "    elif data.direction[i] == 'up':\n",
    "        location['up'] += data.units[i]\n",
    "    else:\n",
    "        print('Something was different...?')\n",
    "        print(' ==> ', data.direction[i], data.units[i])"
   ]
  },
  {
   "cell_type": "code",
   "execution_count": 19,
   "id": "b6b69072",
   "metadata": {},
   "outputs": [
    {
     "name": "stdout",
     "output_type": "stream",
     "text": [
      "The final horizontal position is 2085.\n",
      "The final depth is 785.\n",
      "Multiplying the above two yields 1636725.\n"
     ]
    }
   ],
   "source": [
    "final_hor_pos = location['forward']\n",
    "final_depth = location['down'] - location['up']\n",
    "print('The final horizontal position is %.0f.' % (final_hor_pos))\n",
    "print('The final depth is %.0f.' % (final_depth))\n",
    "print('Multiplying the above two yields %.0f.' % (final_hor_pos * final_depth))"
   ]
  },
  {
   "cell_type": "markdown",
   "id": "d8769dc3",
   "metadata": {},
   "source": [
    "***\n",
    "\n",
    "# Part Two\n",
    "\n",
    "Based on your calculations, the planned course doesn't seem to make any sense. You find the submarine manual and discover that the process is actually slightly more complicated.\n",
    "\n",
    "In addition to horizontal position and depth, you'll also need to track a third value, aim, which also starts at 0. The commands also mean something entirely different than you first thought:\n",
    "\n",
    "- down X increases your aim by X units.\n",
    "- up X decreases your aim by X units.\n",
    "- forward X does two things:\n",
    "    - It increases your horizontal position by X units.\n",
    "    - It increases your depth by your aim multiplied by X.\n",
    "\n",
    "Again note that since you're on a submarine, down and up do the opposite of what you might expect: \"down\" means aiming in the positive direction.\n",
    "\n",
    "Now, the above example does something different:\n",
    "\n",
    "- forward 5 adds 5 to your horizontal position, a total of 5. Because your aim is 0, your depth does not change.\n",
    "- down 5 adds 5 to your aim, resulting in a value of 5.\n",
    "- forward 8 adds 8 to your horizontal position, a total of 13. Because your aim is 5, your depth increases by 8*5=40.\n",
    "- up 3 decreases your aim by 3, resulting in a value of 2.\n",
    "- down 8 adds 8 to your aim, resulting in a value of 10.\n",
    "- forward 2 adds 2 to your horizontal position, a total of 15. Because your aim is 10, your depth increases by 2*10=20 to a total of 60.\n",
    "\n",
    "After following these new instructions, you would have a horizontal position of 15 and a depth of 60. (Multiplying these produces 900.)\n",
    "\n",
    "Using this new interpretation of the commands, calculate the horizontal position and depth you would have after following the planned course. **What do you get if you multiply your final horizontal position by your final depth?**"
   ]
  },
  {
   "cell_type": "code",
   "execution_count": 37,
   "id": "8dd33d1b",
   "metadata": {},
   "outputs": [],
   "source": [
    "location = {\n",
    "    'forward': 0,\n",
    "    'aim': 0,\n",
    "    'depth': 0\n",
    "}\n",
    "\n",
    "for i in range(len(data)):\n",
    "    if data.direction[i] == 'forward':\n",
    "        location['forward'] += data.units[i]\n",
    "        location['depth'] += location['aim']*data.units[i]\n",
    "    elif data.direction[i] == 'down':\n",
    "        location['aim'] += data.units[i]\n",
    "    elif data.direction[i] == 'up':\n",
    "        location['aim'] -= data.units[i]\n",
    "    else:\n",
    "        print('Something was different...?')\n",
    "        print(' ==> ', data.direction[i], data.units[i])"
   ]
  },
  {
   "cell_type": "code",
   "execution_count": 38,
   "id": "efb7f173",
   "metadata": {},
   "outputs": [
    {
     "name": "stdout",
     "output_type": "stream",
     "text": [
      "The final horizontal position is 2085.\n",
      "The final depth is 898205.\n",
      "Multiplying the above two yields 1872757425.\n"
     ]
    }
   ],
   "source": [
    "print('The final horizontal position is %.0f.' % (location['forward']))\n",
    "print('The final depth is %.0f.' % (location['depth']))\n",
    "print('Multiplying the above two yields %.0f.' % (location['forward'] * location['depth']))"
   ]
  }
 ],
 "metadata": {
  "kernelspec": {
   "display_name": "Python 3 (ipykernel)",
   "language": "python",
   "name": "python3"
  },
  "language_info": {
   "codemirror_mode": {
    "name": "ipython",
    "version": 3
   },
   "file_extension": ".py",
   "mimetype": "text/x-python",
   "name": "python",
   "nbconvert_exporter": "python",
   "pygments_lexer": "ipython3",
   "version": "3.8.11"
  }
 },
 "nbformat": 4,
 "nbformat_minor": 5
}
